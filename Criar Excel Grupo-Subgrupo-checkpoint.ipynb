{
 "cells": [
  {
   "cell_type": "code",
   "execution_count": 43,
   "id": "ccb07555",
   "metadata": {},
   "outputs": [],
   "source": [
    "import pandas as pd\n",
    "import os\n",
    "\n",
    "\n",
    "# Definir Funções\n",
    "\n",
    "# Filtra apenas linhas que contenham o valor na coluna, retornando o Dataframe filtrado.\n",
    "def filter_info(_df, _column, _value):\n",
    "    _df = _df.dropna(subset=_column)\n",
    "    return _df.query(f'{_column}.str.contains(\"{_value}\")')\n",
    "\n",
    "# Faz o Excel, com o nome do Group Name, tendo cada aba nomeada conforme o Subgroup Name\n",
    "def make_excel(_df:pd.core.frame.DataFrame, _group_name:str, _subgroup_name:list):    \n",
    "    if not _subgroup_name:\n",
    "        print('Sem Subgrupos!')\n",
    "        return\n",
    "    \n",
    "    if not _group_name:\n",
    "        print(\"Sem nome do Grupo!\")\n",
    "        return \n",
    "    \n",
    "    # Caso o arquivo não exista, a gente cria com a base completa. \n",
    "    if not os.path.exists(f'Bases/{_group_name}.xlsx'):\n",
    "        print(\"Arquivo não existe. Criando arquivo com base completa.\")\n",
    "        _df.to_excel(f'Bases/{_group_name}.xlsx', sheet_name=f'Base Completa')\n",
    "    else:\n",
    "        print(f\"O arquivo {_group_name}.xlsx já existe. Abas já existentes serão substituídas.\")\n",
    "        \n",
    "    writer = pd.ExcelWriter(f'bases/{_group_name}.xlsx', mode='a', if_sheet_exists='replace')\n",
    "    \n",
    "    # Pra cada sub grupo na lista, cria uma aba nova no arquivo, filtrando as linhas que a Área contenha o subgrupo\n",
    "    for subgroup in _subgroup_name:\n",
    "        print(subgroup)\n",
    "        filtered_df = filter_info(_df, 'Área', subgroup)\n",
    "        filtered_df.to_excel(writer, sheet_name=f'{subgroup}')\n",
    "        \n",
    "    print('Fechando arquivo...')    \n",
    "    writer.close()\n",
    "    \n",
    "    print(f'Excel {_group_name}.xlsx criado com sucesso.')"
   ]
  },
  {
   "cell_type": "code",
   "execution_count": 34,
   "id": "ee3a0e13",
   "metadata": {},
   "outputs": [],
   "source": [
    "# Carrega o CSV, filtra conforme necessário\n",
    "# Remove as linhas com Estado vazio (Queremos SC) e Área vazia\n",
    "\n",
    "df_raw = pd.read_csv('base_tratada.csv')\n",
    "df_raw = df_raw.dropna(subset ='Área')\n",
    "df_raw = df_raw.dropna(subset ='UF')\n",
    "df_filtered = df_raw.filter(items=['Nome', 'E-mail', 'Telefone', 'Município', 'UF', 'Estado', 'Área'])\n",
    "df_sc = filter_info(df_filtered, 'UF', 'SC')"
   ]
  },
  {
   "cell_type": "code",
   "execution_count": 35,
   "id": "9bfe361e",
   "metadata": {},
   "outputs": [
    {
     "name": "stdout",
     "output_type": "stream",
     "text": [
      "Arquivo não existe. Criando arquivo com base completa.\n",
      "Gestão Cultural\n",
      "Produção Cultural\n",
      "Cultura Indígena\n",
      "Fechando arquivo...\n",
      "Excel Cultura.xlsx criado com sucesso.\n"
     ]
    }
   ],
   "source": [
    "make_excel(df_sc, 'Cultura', ['Gestão Cultural', 'Produção Cultural', 'Cultura Indígena'])"
   ]
  },
  {
   "cell_type": "code",
   "execution_count": 36,
   "id": "86c323dd",
   "metadata": {},
   "outputs": [
    {
     "name": "stdout",
     "output_type": "stream",
     "text": [
      "Arquivo não existe. Criando arquivo com base completa.\n",
      "Artesanato\n",
      "Fechando arquivo...\n",
      "Excel Artes.xlsx criado com sucesso.\n"
     ]
    }
   ],
   "source": [
    "make_excel(df_sc, 'Artes', ['Artesanato'])"
   ]
  },
  {
   "cell_type": "code",
   "execution_count": 37,
   "id": "9762a3d5",
   "metadata": {},
   "outputs": [
    {
     "name": "stdout",
     "output_type": "stream",
     "text": [
      "Arquivo não existe. Criando arquivo com base completa.\n",
      "Antropologia\n",
      "Fechando arquivo...\n",
      "Excel Ciências Humanas.xlsx criado com sucesso.\n"
     ]
    }
   ],
   "source": [
    "make_excel(df_sc, 'Ciências Humanas', ['Antropologia'])"
   ]
  },
  {
   "cell_type": "code",
   "execution_count": 38,
   "id": "52e52193",
   "metadata": {},
   "outputs": [
    {
     "name": "stdout",
     "output_type": "stream",
     "text": [
      "Arquivo não existe. Criando arquivo com base completa.\n",
      "Meio Ambiente\n",
      "Fechando arquivo...\n",
      "Excel Meio Ambiente.xlsx criado com sucesso.\n"
     ]
    }
   ],
   "source": [
    "make_excel(df_sc, 'Meio Ambiente', ['Meio Ambiente'])"
   ]
  },
  {
   "cell_type": "code",
   "execution_count": null,
   "id": "6ee78c3d",
   "metadata": {},
   "outputs": [],
   "source": []
  }
 ],
 "metadata": {
  "kernelspec": {
   "display_name": "Python 3 (ipykernel)",
   "language": "python",
   "name": "python3"
  },
  "language_info": {
   "codemirror_mode": {
    "name": "ipython",
    "version": 3
   },
   "file_extension": ".py",
   "mimetype": "text/x-python",
   "name": "python",
   "nbconvert_exporter": "python",
   "pygments_lexer": "ipython3",
   "version": "3.10.5"
  }
 },
 "nbformat": 4,
 "nbformat_minor": 5
}
