{
 "cells": [
  {
   "cell_type": "code",
   "execution_count": 1,
   "id": "ccb07555",
   "metadata": {},
   "outputs": [],
   "source": [
    "import pandas as pd\n",
    "import os\n",
    "\n",
    "\n",
    "# Definir Funções\n",
    "\n",
    "# Filtra apenas linhas que contenham o valor na coluna, retornando o Dataframe filtrado.\n",
    "def filter_info(_df, _column, _value):\n",
    "    _df = _df.dropna(subset=_column)\n",
    "    return _df.query(f'{_column}.str.contains(\"{_value}\")')\n",
    "\n",
    "# Faz o Excel, com o nome do Group Name, tendo cada aba nomeada conforme o Subgroup Name\n",
    "def make_excel(_df:pd.core.frame.DataFrame, _group_name:str, _subgroup_name:list):    \n",
    "    if not _subgroup_name:\n",
    "        print('Sem Subgrupos!')\n",
    "        return\n",
    "    \n",
    "    if not _group_name:\n",
    "        print(\"Sem nome do Grupo!\")\n",
    "        return \n",
    "    \n",
    "    # Caso o arquivo não exista, a gente cria com a base completa. \n",
    "    if not os.path.exists(f'Bases/{_group_name}.xlsx'):\n",
    "        print(\"Arquivo não existe. Criando arquivo com base completa.\")\n",
    "        _df.to_excel(f'Bases/{_group_name}.xlsx', sheet_name=f'Base Completa')\n",
    "    else:\n",
    "        print(f\"O arquivo {_group_name}.xlsx já existe. Abas já existentes serão substituídas.\")\n",
    "        \n",
    "    writer = pd.ExcelWriter(f'bases/{_group_name}.xlsx', mode='a', if_sheet_exists='replace')\n",
    "    \n",
    "    # Pra cada sub grupo na lista, cria uma aba nova no arquivo, filtrando as linhas que a Área contenha o subgrupo\n",
    "    for subgroup in _subgroup_name:\n",
    "        print(subgroup)\n",
    "        filtered_df = filter_info(_df, 'Área', subgroup)\n",
    "        filtered_df.to_excel(writer, sheet_name=f'{subgroup}')\n",
    "        \n",
    "    print('Fechando arquivo...')    \n",
    "    writer.close()\n",
    "    \n",
    "    print(f'Excel {_group_name}.xlsx criado com sucesso.')\n",
    "\n",
    "def filtrar_coluna_nula (_df, _column):\n",
    "    _df = _df.dropna(subset=_column)\n",
    "    return _df"
   ]
  },
  {
   "cell_type": "code",
   "execution_count": 2,
   "id": "ee3a0e13",
   "metadata": {},
   "outputs": [],
   "source": [
    "# Carrega o CSV, filtra conforme necessário\n",
    "# Remove as linhas com Estado vazio (Queremos SC) e Área vazia\n",
    "\n",
    "df_raw = pd.read_csv('base_tratada.csv')\n",
    "df_raw = df_raw.dropna(subset ='Área')\n",
    "df_raw = df_raw.dropna(subset ='UF')\n",
    "df_filtered = df_raw.filter(items=['Nome', 'E-mail', 'Telefone', 'Município', 'UF', 'Estado', 'Área'])\n",
    "df_uf = filter_info(df_filtered, 'UF', 'ES')\n",
    "df_mun = filter_info(df_filtered, 'Município', 'Campo Grande')\n",
    "dale = df_uf\n",
    "# Remove e-mails que terminam com '@gov.br'\n",
    "dale = dale[~dale['E-mail'].fillna('').str.endswith('gov.br')]\n",
    "var_nome = 'ES'"
   ]
  },
  {
   "cell_type": "code",
   "execution_count": 3,
   "id": "2853597c-6ee8-4ec8-be00-7bf8fb05e244",
   "metadata": {},
   "outputs": [],
   "source": [
    "df_mun= filtrar_coluna_nula(df_mun, 'E-mail')"
   ]
  },
  {
   "cell_type": "code",
   "execution_count": 4,
   "id": "86c323dd",
   "metadata": {},
   "outputs": [
    {
     "name": "stdout",
     "output_type": "stream",
     "text": [
      "Arquivo não existe. Criando arquivo com base completa.\n",
      "Artesanato\n",
      "Museu\n",
      "Artes Visuais\n",
      "Fechando arquivo...\n",
      "Excel ES_artes.xlsx criado com sucesso.\n"
     ]
    }
   ],
   "source": [
    "make_excel(dale, var_nome + '_artes', ['Artesanato', 'Museu', 'Artes Visuais'])"
   ]
  },
  {
   "cell_type": "code",
   "execution_count": 5,
   "id": "e37939c4-ee7c-4b03-b467-1306ed3d8773",
   "metadata": {},
   "outputs": [
    {
     "name": "stdout",
     "output_type": "stream",
     "text": [
      "Arquivo não existe. Criando arquivo com base completa.\n",
      "Produção Cultural\n",
      "Cultura Indígena\n",
      "Cultura Popular\n",
      "Patrimônio Cultural\n",
      "Gestão Cultural\n",
      "Fechando arquivo...\n",
      "Excel ES_cultura.xlsx criado com sucesso.\n"
     ]
    }
   ],
   "source": [
    "make_excel(dale, var_nome + '_cultura', ['Produção Cultural', 'Cultura Indígena', 'Cultura Popular', 'Patrimônio Cultural', 'Gestão Cultural'])"
   ]
  },
  {
   "cell_type": "code",
   "execution_count": 6,
   "id": "434387cb-46fa-4804-ba7b-756a2403bcca",
   "metadata": {},
   "outputs": [
    {
     "name": "stdout",
     "output_type": "stream",
     "text": [
      "Arquivo não existe. Criando arquivo com base completa.\n",
      "Economia Criativa\n",
      "Fechando arquivo...\n",
      "Excel ES_economia.xlsx criado com sucesso.\n"
     ]
    }
   ],
   "source": [
    "make_excel(dale, var_nome + '_economia', ['Economia Criativa'])"
   ]
  },
  {
   "cell_type": "code",
   "execution_count": 7,
   "id": "3f3f26d6-9f92-4e05-b5aa-67429d9304db",
   "metadata": {},
   "outputs": [
    {
     "name": "stdout",
     "output_type": "stream",
     "text": [
      "Arquivo não existe. Criando arquivo com base completa.\n",
      "Educação\n",
      "Fechando arquivo...\n",
      "Excel ES_educacao.xlsx criado com sucesso.\n"
     ]
    }
   ],
   "source": [
    "make_excel(dale, var_nome + '_educacao', ['Educação'])"
   ]
  },
  {
   "cell_type": "code",
   "execution_count": 8,
   "id": "e7363f90-f3d4-4d16-b6bc-f4ca7c73442a",
   "metadata": {},
   "outputs": [
    {
     "name": "stdout",
     "output_type": "stream",
     "text": [
      "Arquivo não existe. Criando arquivo com base completa.\n",
      "Outros\n",
      "Fechando arquivo...\n",
      "Excel ES_outros.xlsx criado com sucesso.\n"
     ]
    }
   ],
   "source": [
    "make_excel(dale, var_nome + '_outros', ['Outros'])"
   ]
  },
  {
   "cell_type": "code",
   "execution_count": 9,
   "id": "9c873b0f-5de6-4c02-be0c-76065eb5de74",
   "metadata": {},
   "outputs": [
    {
     "name": "stdout",
     "output_type": "stream",
     "text": [
      "Arquivo não existe. Criando arquivo com base completa.\n",
      "Comunicação\n",
      "Fechando arquivo...\n",
      "Excel ES_comunicacao.xlsx criado com sucesso.\n"
     ]
    }
   ],
   "source": [
    "make_excel(dale, var_nome + '_comunicacao', ['Comunicação'])"
   ]
  },
  {
   "cell_type": "code",
   "execution_count": 10,
   "id": "ce0cb2f3-32d3-4007-9919-033162dda736",
   "metadata": {},
   "outputs": [
    {
     "name": "stdout",
     "output_type": "stream",
     "text": [
      "Arquivo não existe. Criando arquivo com base completa.\n",
      "Antropologia\n",
      "Fechando arquivo...\n",
      "Excel ES_cienciashumanas.xlsx criado com sucesso.\n"
     ]
    }
   ],
   "source": [
    "make_excel(dale, var_nome + '_cienciashumanas', ['Antropologia'])"
   ]
  },
  {
   "cell_type": "code",
   "execution_count": 11,
   "id": "52e52193",
   "metadata": {},
   "outputs": [
    {
     "name": "stdout",
     "output_type": "stream",
     "text": [
      "Arquivo não existe. Criando arquivo com base completa.\n",
      "Meio Ambiente\n",
      "Fechando arquivo...\n",
      "Excel ES_meioambiente.xlsx criado com sucesso.\n"
     ]
    }
   ],
   "source": [
    "make_excel(dale, var_nome + '_meioambiente', ['Meio Ambiente'])"
   ]
  },
  {
   "cell_type": "code",
   "execution_count": null,
   "id": "6ee78c3d",
   "metadata": {},
   "outputs": [],
   "source": []
  },
  {
   "cell_type": "code",
   "execution_count": null,
   "id": "8fef25e0-ebfb-4eac-ac3f-34ac8cef0b43",
   "metadata": {},
   "outputs": [],
   "source": []
  }
 ],
 "metadata": {
  "kernelspec": {
   "display_name": "Python 3 (ipykernel)",
   "language": "python",
   "name": "python3"
  },
  "language_info": {
   "codemirror_mode": {
    "name": "ipython",
    "version": 3
   },
   "file_extension": ".py",
   "mimetype": "text/x-python",
   "name": "python",
   "nbconvert_exporter": "python",
   "pygments_lexer": "ipython3",
   "version": "3.12.4"
  }
 },
 "nbformat": 4,
 "nbformat_minor": 5
}
